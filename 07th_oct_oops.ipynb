{
 "cells": [
  {
   "cell_type": "markdown",
   "id": "6fa974f6-0be2-4501-9cad-a5360e6d63ae",
   "metadata": {
    "tags": []
   },
   "source": [
    "### Problem 1: Bank Account Create a class representing a bank account with attributes like account number, account holder name, and balance. Implement methods to deposit and withdraw money from the account."
   ]
  },
  {
   "cell_type": "code",
   "execution_count": 69,
   "id": "6b215da3-c6e4-4e6c-906d-e6eed667bfe7",
   "metadata": {},
   "outputs": [],
   "source": [
    "class bankaccount:\n",
    "    def __init__(self,acc_number,acc_holder_name,balance=0):\n",
    "        # Initialize the account with the provided account number ,account holder name and balance (by default:0)\n",
    "        self.acc_number = acc_number\n",
    "        self.acc_holder_name = acc_holder_name\n",
    "        self.balance = balance\n",
    "    \n",
    "    def deposit(self,amount):\n",
    "        # Deposit the specified amount into the account.\n",
    "        self.balance += amount\n",
    "        return f\"Deposited {amount}. New balance: {self.balance}\"\n",
    "        \n",
    "    def withdraw(self,amount):\n",
    "        # Withdraw the specified amount from the account if the balance is sufficent\n",
    "        if amount <= self.balance:\n",
    "            self.balance -= amount\n",
    "            return f\"Withdrew {amount}. New balance: {self.balance}\"\n",
    "        else:\n",
    "            return \"Insufficient funds. Withdrewal faield.\"\n",
    "    \n",
    "    def get_balance(self):\n",
    "        # Retrive the current balance of the account.\n",
    "        return f\"Account balance for {self.acc_holder_name}: {self.balance}\"\n"
   ]
  },
  {
   "cell_type": "code",
   "execution_count": 70,
   "id": "9c8ab408-7087-4015-a951-041ec633dbd8",
   "metadata": {},
   "outputs": [],
   "source": [
    "account = bankaccount('234324','vinay kotadiya')"
   ]
  },
  {
   "cell_type": "code",
   "execution_count": 71,
   "id": "196a3d6d-fc97-44c4-af21-b47698893b3d",
   "metadata": {},
   "outputs": [
    {
     "name": "stdout",
     "output_type": "stream",
     "text": [
      "Account balance for vinay kotadiya: 0\n",
      "Deposited 1000000. New balance: 1000000\n",
      "Withdrew 10000. New balance: 990000\n",
      "Account balance for vinay kotadiya: 990000\n"
     ]
    }
   ],
   "source": [
    "print(account.get_balance())\n",
    "print(account.deposit(1000000))\n",
    "print(account.withdraw(10000))\n",
    "print(account.get_balance())"
   ]
  },
  {
   "cell_type": "markdown",
   "id": "db2c2e16-e514-4d4d-b60f-d4c818d4c4bd",
   "metadata": {
    "tags": []
   },
   "source": [
    "### Problem 2: Employee Management Create a class representing an employee with attributes like employee ID, name, and salary. Implement methods to calculate the yearly bonus and display employee details."
   ]
  },
  {
   "cell_type": "code",
   "execution_count": 46,
   "id": "6c39d063-83c9-492f-b474-a8c16cff25a2",
   "metadata": {},
   "outputs": [],
   "source": [
    "class employee:\n",
    "    \n",
    "    def __init__(self,emp_id,emp_name,emp_salary,percintageOfSalary):\n",
    "        self.emp_id = emp_id\n",
    "        self.emp_name = emp_name\n",
    "        self.emp_salary = emp_salary\n",
    "        self.percintageOfSalary = percintageOfSalary\n",
    "        \n",
    "    def details(self):\n",
    "        print(f'The Employee id is: {self.emp_id} \\nEmployee name is: {self.emp_name} \\nSalary is: {self.emp_salary}')\n",
    "        print('Bonus is: ',(self.percintageOfSalary / 100)*self.emp_salary)"
   ]
  },
  {
   "cell_type": "code",
   "execution_count": 47,
   "id": "4270ba56-1cfb-4c62-9edc-90f305702160",
   "metadata": {},
   "outputs": [],
   "source": [
    "vinay = employee(101,'vinay',60000,10)"
   ]
  },
  {
   "cell_type": "code",
   "execution_count": 48,
   "id": "c6281925-bf83-4f6c-97ec-3186983c0743",
   "metadata": {},
   "outputs": [
    {
     "name": "stdout",
     "output_type": "stream",
     "text": [
      "The Employee id is: 101 \n",
      "Employee name is: vinay \n",
      "Salary is: 60000\n",
      "Bonus is:  6000.0\n"
     ]
    }
   ],
   "source": [
    "vinay.details()"
   ]
  },
  {
   "cell_type": "markdown",
   "id": "4ad59951-9af3-4c6f-b1b4-9b586583be6c",
   "metadata": {},
   "source": [
    "### Problem 3: Vehicle Rental Create a class representing a vehicle rental system. Implement methods to rent a vehicle, return a vehicle, and display available vehicles."
   ]
  },
  {
   "cell_type": "code",
   "execution_count": 211,
   "id": "3424b2d2-500b-4ba7-b99f-ea9b9b5f5229",
   "metadata": {},
   "outputs": [],
   "source": [
    "class vehical:\n",
    "        \n",
    "    def __init__(self):\n",
    "        self.available_vehicles = []\n",
    "        self.returned_vehicles = []\n",
    "        \n",
    "    def show_available_vehicles(self):\n",
    "        if self.available_vehicles:\n",
    "            return f\"We have the folloeing cars available: {' , '.join(self.available_vehicles)}\"\n",
    "        else:\n",
    "            return \"No cars are currently available.\"\n",
    "        \n",
    "    def rent_vehicle(self,*args):\n",
    "        for vehicle in args:\n",
    "            if vehicle in self.available_vehicles:\n",
    "                self.available_vehicles.remove(vehicle)\n",
    "                self.returned_vehicles.append(vehicle)\n",
    "        return f\"You chose this cars for rent: {' , '.join(args)}\"\n",
    "    \n",
    "    def return_vehicle(self,*args):\n",
    "        for vehicle in args:\n",
    "            if vehicle in self.returned_vehicles:\n",
    "                self.available_vehicles.append(vehicle)\n",
    "                self.returned_vehicles.remove(vehicle)\n",
    "        return f\"You returned these car(s): {' , '.join(args)}\"\n",
    "    \n",
    "            \n",
    "        "
   ]
  },
  {
   "cell_type": "code",
   "execution_count": 212,
   "id": "bda6c702-8938-4e35-b796-49740d0c27c4",
   "metadata": {},
   "outputs": [],
   "source": [
    "show = vehical()\n",
    "show.available_vehicles = ['car1','car2','car3','car4','car5']"
   ]
  },
  {
   "cell_type": "code",
   "execution_count": 213,
   "id": "41d512d4-6d2e-4c76-b900-5017588d687d",
   "metadata": {},
   "outputs": [
    {
     "name": "stdout",
     "output_type": "stream",
     "text": [
      "We have the folloeing cars available: car1 , car2 , car3 , car4 , car5\n",
      "You chose this cars for rent: car1 , car2\n",
      "We have the folloeing cars available: car3 , car4 , car5\n",
      "You returned these car(s): car1\n",
      "We have the folloeing cars available: car3 , car4 , car5 , car1\n"
     ]
    }
   ],
   "source": [
    "print(show.show_available_vehicles())\n",
    "print(show.rent_vehicle('car1','car2'))\n",
    "print(show.show_available_vehicles())\n",
    "print(show.return_vehicle('car1'))\n",
    "print(show.show_available_vehicles())"
   ]
  },
  {
   "cell_type": "markdown",
   "id": "38751985-04fc-4c9d-a105-78d4e2aad7d0",
   "metadata": {},
   "source": [
    "### Problem 4: Library Catalog Create classes representing a library and a book. Implement methods to add books to the library, borrow books, and display available books."
   ]
  },
  {
   "cell_type": "code",
   "execution_count": 195,
   "id": "3a907949-ebe0-4419-9fb8-4d43a6cb726e",
   "metadata": {},
   "outputs": [],
   "source": [
    "class Library:\n",
    "    \n",
    "    def __init__(self):\n",
    "        self.available_books = []\n",
    "        self.borrow_books = []\n",
    "        \n",
    "    def add_books(self,*args):\n",
    "        for books in args:\n",
    "            if books not in self.available_books:\n",
    "                self.available_books.append(books)\n",
    "                \n",
    "            else:\n",
    "                print(f\"{books} is already in the list of available books.\")\n",
    "        return f\"Book in library: {','.join(self.available_books)}\"\n",
    "    \n",
    "    def get_available_books(self):\n",
    "        return f\"You have this books in library: {','.join(self.available_books)}\"\n",
    "    \n",
    "    def get_borrow_books(self,*args):\n",
    "        for books in args:\n",
    "            if books in self.available_books:\n",
    "                self.available_books.remove(books)\n",
    "                self.borrow_books.append(books)\n",
    "        return f\"You borrow this book(s): {','.join(self.borrow_books)}\"\n",
    "    \n",
    "        "
   ]
  },
  {
   "cell_type": "code",
   "execution_count": 196,
   "id": "c324ba14-69cf-4586-81c2-98c6522b42e6",
   "metadata": {},
   "outputs": [],
   "source": [
    "lib = Library()"
   ]
  },
  {
   "cell_type": "code",
   "execution_count": 197,
   "id": "9a80156a-ded3-4206-8914-89518f18740f",
   "metadata": {},
   "outputs": [
    {
     "name": "stdout",
     "output_type": "stream",
     "text": [
      "Book in library: good,bad,black,white,c++\n",
      "You have this books in library: good,bad,black,white,c++\n",
      "You borrow this book(s): good,black,bad\n",
      "You have this books in library: white,c++\n"
     ]
    }
   ],
   "source": [
    "print(lib.add_books('good','bad','black','white','c++'))\n",
    "print(lib.get_available_books())\n",
    "print(lib.get_borrow_books('good','black','bad'))\n",
    "print(lib.get_available_books())"
   ]
  },
  {
   "cell_type": "markdown",
   "id": "ffe271a5-6f3a-47ad-8920-2faccba412c4",
   "metadata": {},
   "source": [
    "### Problem 5: Product Inventory Create classes representing a product and an inventory system. Implement methods to add products to the inventory, update product quantity, and display available products."
   ]
  },
  {
   "cell_type": "code",
   "execution_count": 6,
   "id": "ad7c9f28-c25c-4ad6-9d75-a79634193986",
   "metadata": {},
   "outputs": [
    {
     "name": "stdout",
     "output_type": "stream",
     "text": [
      "Available Products:\n",
      "Widget - Price: $10.99 - Quantity: 50\n",
      "Gadget - Price: $19.99 - Quantity: 30\n",
      "Available Products:\n",
      "Widget - Price: $10.99 - Quantity: 45\n",
      "Gadget - Price: $19.99 - Quantity: 30\n"
     ]
    }
   ],
   "source": [
    "# Define the Product class to represent individual products\n",
    "class Product:\n",
    "    def __init__(self, name, price, quantity):\n",
    "        self.name = name\n",
    "        self.price = price\n",
    "        self.quantity = quantity\n",
    "\n",
    "# Define the Inventory class to manage a list of products\n",
    "class Inventory:\n",
    "    def __init__(self):\n",
    "        self.products = []\n",
    "\n",
    "    # Method to add a product to the inventory\n",
    "    def add_product(self, product):\n",
    "        self.products.append(product)\n",
    "\n",
    "    # Method to update the quantity of a product by name\n",
    "    def update_quantity(self, product_name, new_quantity):\n",
    "        for product in self.products:\n",
    "            if product.name == product_name:\n",
    "                product.quantity = new_quantity\n",
    "                break\n",
    "\n",
    "    # Method to display available products with a quantity greater than 0\n",
    "    def display_available_products(self):\n",
    "        print(\"Available Products:\")\n",
    "        for product in self.products:\n",
    "            if product.quantity > 0:\n",
    "                print(f\"{product.name} - Price: ${product.price} - Quantity: {product.quantity}\")\n",
    "\n",
    "# Example usage:\n",
    "inventory = Inventory()\n",
    "\n",
    "# Create two products and add them to the inventory\n",
    "product1 = Product(\"Widget\", 10.99, 50)\n",
    "product2 = Product(\"Gadget\", 19.99, 30)\n",
    "\n",
    "inventory.add_product(product1)\n",
    "inventory.add_product(product2)\n",
    "\n",
    "# Display available products before and after updating the quantity\n",
    "inventory.display_available_products()\n",
    "\n",
    "# Update the quantity of a product and display available products again\n",
    "inventory.update_quantity(\"Widget\", 45)\n",
    "inventory.display_available_products()\n"
   ]
  },
  {
   "cell_type": "markdown",
   "id": "24a28a26-50eb-4fe5-994c-21b04c1629a5",
   "metadata": {},
   "source": [
    "### Problem 6: Shape Calculation Create a class representing a shape with attributes like length, width, and height. Implement methods to calculate the area and perimeter of the shape."
   ]
  },
  {
   "cell_type": "code",
   "execution_count": 9,
   "id": "308391a0-2aa3-4c58-a36f-612cb1cad590",
   "metadata": {},
   "outputs": [
    {
     "name": "stdout",
     "output_type": "stream",
     "text": [
      "Rectangle Area: 20\n",
      "Rectangle Perimeter: 18\n",
      "Triangle Area: 6.0\n",
      "Triangle Perimeter: 12\n"
     ]
    }
   ],
   "source": [
    "# Define the Shape class as the base class for geometric shapes\n",
    "class Shape:\n",
    "    def __init__(self, length, width, height):\n",
    "        # Initialize the shape's dimensions (length, width, and height)\n",
    "        self.length = length\n",
    "        self.width = width\n",
    "        self.height = height\n",
    "\n",
    "    def calculate_area(self):\n",
    "        # This method should be implemented by subclasses\n",
    "        raise NotImplementedError(\"Subclasses must implement this method\")\n",
    "\n",
    "    def calculate_perimeter(self):\n",
    "        # This method should be implemented by subclasses\n",
    "        raise NotImplementedError(\"Subclasses must implement this method\")\n",
    "\n",
    "# Define the Rectangle class as a subclass of Shape\n",
    "class Rectangle(Shape):\n",
    "    def calculate_area(self):\n",
    "        # Calculate the area of a rectangle: length * width\n",
    "        return self.length * self.width\n",
    "\n",
    "    def calculate_perimeter(self):\n",
    "        # Calculate the perimeter of a rectangle: 2 * (length + width)\n",
    "        return 2 * (self.length + self.width)\n",
    "\n",
    "# Define the Triangle class as a subclass of Shape\n",
    "class Triangle(Shape):\n",
    "    def calculate_area(self):\n",
    "        # Calculate the area of a triangle using Heron's formula\n",
    "        s = (self.length + self.width + self.height) / 2\n",
    "        return (s * (s - self.length) * (s - self.width) * (s - self.height)) ** 0.5\n",
    "\n",
    "    def calculate_perimeter(self):\n",
    "        # Calculate the perimeter of a triangle: length + width + height\n",
    "        return self.length + self.width + self.height\n",
    "\n",
    "# Example usage:\n",
    "rectangle = Rectangle(5, 4, 0)  # Create a rectangle object\n",
    "triangle = Triangle(3, 4, 5)    # Create a triangle object\n",
    "\n",
    "# Calculate and print the area and perimeter of the rectangle\n",
    "print(\"Rectangle Area:\", rectangle.calculate_area())\n",
    "print(\"Rectangle Perimeter:\", rectangle.calculate_perimeter())\n",
    "\n",
    "# Calculate and print the area and perimeter of the triangle\n",
    "print(\"Triangle Area:\", triangle.calculate_area())\n",
    "print(\"Triangle Perimeter:\", triangle.calculate_perimeter())\n"
   ]
  },
  {
   "cell_type": "markdown",
   "id": "3e32e848-2467-46bb-be27-a7b646a851c1",
   "metadata": {},
   "source": [
    "### Problem 7: Student Management Create a class representing a student with attributes like student ID, name, and grades. Implement methods to calculate the average grade and display student details."
   ]
  },
  {
   "cell_type": "code",
   "execution_count": 10,
   "id": "147f8df9-d773-4561-8314-09b34e505b40",
   "metadata": {},
   "outputs": [
    {
     "name": "stdout",
     "output_type": "stream",
     "text": [
      "Student 1 Details:\n",
      "Student ID: 1\n",
      "Name: Alice\n",
      "Grades: 85, 90, 78, 92, 88\n",
      "Average Grade: 86.6\n",
      "\n",
      "Student 2 Details:\n",
      "Student ID: 2\n",
      "Name: Bob\n",
      "Grades: 76, 88, 94, 82, 91\n",
      "Average Grade: 86.2\n"
     ]
    }
   ],
   "source": [
    "# Define the Student class to represent student information\n",
    "class Student:\n",
    "    def __init__(self, student_id, name, grades=[]):\n",
    "        # Initialize the student's attributes: ID, name, and grades (default to an empty list)\n",
    "        self.student_id = student_id\n",
    "        self.name = name\n",
    "        self.grades = grades\n",
    "\n",
    "    def calculate_average_grade(self):\n",
    "        # Calculate the average grade of the student\n",
    "        if len(self.grades) == 0:\n",
    "            return 0  # Avoid division by zero if there are no grades\n",
    "        return sum(self.grades) / len(self.grades)\n",
    "\n",
    "    def display_student_details(self):\n",
    "        # Display the student's details, including ID, name, grades, and average grade\n",
    "        print(f\"Student ID: {self.student_id}\")\n",
    "        print(f\"Name: {self.name}\")\n",
    "        print(f\"Grades: {', '.join(map(str, self.grades))}\")\n",
    "        print(f\"Average Grade: {self.calculate_average_grade()}\")\n",
    "\n",
    "# Example usage:\n",
    "student1 = Student(1, \"Alice\", [85, 90, 78, 92, 88])  # Create a student object\n",
    "student2 = Student(2, \"Bob\", [76, 88, 94, 82, 91])    # Create another student object\n",
    "\n",
    "# Display the details of the first student\n",
    "print(\"Student 1 Details:\")\n",
    "student1.display_student_details()\n",
    "\n",
    "# Display the details of the second student\n",
    "print(\"\\nStudent 2 Details:\")\n",
    "student2.display_student_details()\n"
   ]
  },
  {
   "cell_type": "markdown",
   "id": "d145a001-bbb9-405b-83f4-dd3afca5a5a0",
   "metadata": {},
   "source": [
    "### Problem 8: Email Management Create a class representing an email with attributes like sender, recipient, and subject. Implement methods to send an email and display email details."
   ]
  },
  {
   "cell_type": "code",
   "execution_count": 12,
   "id": "01c7d313-95d3-410f-a627-c38bf5519f83",
   "metadata": {},
   "outputs": [
    {
     "name": "stdout",
     "output_type": "stream",
     "text": [
      "Before Sending:\n",
      "Email Details:\n",
      "Sender: you@example.com\n",
      "Recipient: friend@example.com\n",
      "Subject: Hello!\n",
      "Message:\n",
      "Hi, how are you doing?\n",
      "Status: Not Sent\n",
      "Sending email...\n",
      "\n",
      "After Sending:\n",
      "Email Details:\n",
      "Sender: you@example.com\n",
      "Recipient: friend@example.com\n",
      "Subject: Hello!\n",
      "Message:\n",
      "Hi, how are you doing?\n",
      "Status: Sent\n"
     ]
    }
   ],
   "source": [
    "class Email:\n",
    "    def __init__(self, sender, recipient, subject, message):\n",
    "        # Initialize the email with sender, recipient, subject, and message\n",
    "        self.sender = sender\n",
    "        self.recipient = recipient\n",
    "        self.subject = subject\n",
    "        self.message = message\n",
    "        self.sent = False  # Initially, the email is not sent\n",
    "\n",
    "    def send_email(self):\n",
    "        # Simulate sending the email and mark it as sent\n",
    "        print(\"Sending email...\")\n",
    "        self.sent = True\n",
    "\n",
    "    def display_email_details(self):\n",
    "        # Display the details of the email, including sender, recipient, subject, message, and sent status\n",
    "        print(\"Email Details:\")\n",
    "        print(f\"Sender: {self.sender}\")\n",
    "        print(f\"Recipient: {self.recipient}\")\n",
    "        print(f\"Subject: {self.subject}\")\n",
    "        print(\"Message:\")\n",
    "        print(self.message)\n",
    "        if self.sent:\n",
    "            print(\"Status: Sent\")\n",
    "        else:\n",
    "            print(\"Status: Not Sent\")\n",
    "\n",
    "# Example usage:\n",
    "# Create an Email object\n",
    "email = Email(\n",
    "    sender=\"you@example.com\",\n",
    "    recipient=\"friend@example.com\",\n",
    "    subject=\"Hello!\",\n",
    "    message=\"Hi, how are you doing?\"\n",
    ")\n",
    "\n",
    "# Display the details of the email before sending\n",
    "print(\"Before Sending:\")\n",
    "email.display_email_details()\n",
    "\n",
    "# Send the email\n",
    "email.send_email()\n",
    "\n",
    "# Display the details of the email after sending\n",
    "print(\"\\nAfter Sending:\")\n",
    "email.display_email_details()\n"
   ]
  },
  {
   "cell_type": "markdown",
   "id": "6b0dd4d1-f7b0-4495-98b7-478d97d77028",
   "metadata": {},
   "source": [
    "### Problem 9: Social Media Profile Create a class representing a social media profile with attributes like username and posts. Implement methods to add posts, display posts, and search for posts by keyword."
   ]
  },
  {
   "cell_type": "code",
   "execution_count": 13,
   "id": "8221f0fd-6091-4332-930f-e71d0f33c4af",
   "metadata": {},
   "outputs": [
    {
     "name": "stdout",
     "output_type": "stream",
     "text": [
      "Posts by john_doe:\n",
      "1. Enjoying a beautiful day at the beach!\n",
      "2. Trying out a new recipe for dinner.\n",
      "3. Just finished reading an amazing book.\n",
      "Posts by john_doe containing 'beach':\n",
      "1. Enjoying a beautiful day at the beach!\n",
      "No posts by john_doe containing 'music' found.\n"
     ]
    }
   ],
   "source": [
    "class SocialMediaProfile:\n",
    "    def __init__(self, username):\n",
    "        # Initialize the social media profile with a username and an empty list of posts\n",
    "        self.username = username\n",
    "        self.posts = []\n",
    "\n",
    "    def add_post(self, post_text):\n",
    "        # Add a new post to the profile\n",
    "        self.posts.append(post_text)\n",
    "\n",
    "    def display_posts(self):\n",
    "        # Display all posts in the profile\n",
    "        print(f\"Posts by {self.username}:\")\n",
    "        for i, post in enumerate(self.posts, start=1):\n",
    "            print(f\"{i}. {post}\")\n",
    "\n",
    "    def search_posts(self, keyword):\n",
    "        # Search for posts containing a specific keyword\n",
    "        matching_posts = [post for post in self.posts if keyword in post]\n",
    "        if matching_posts:\n",
    "            print(f\"Posts by {self.username} containing '{keyword}':\")\n",
    "            for i, post in enumerate(matching_posts, start=1):\n",
    "                print(f\"{i}. {post}\")\n",
    "        else:\n",
    "            print(f\"No posts by {self.username} containing '{keyword}' found.\")\n",
    "\n",
    "# Example usage:\n",
    "# Create a social media profile\n",
    "profile = SocialMediaProfile(username=\"john_doe\")\n",
    "\n",
    "# Add some posts\n",
    "profile.add_post(\"Enjoying a beautiful day at the beach!\")\n",
    "profile.add_post(\"Trying out a new recipe for dinner.\")\n",
    "profile.add_post(\"Just finished reading an amazing book.\")\n",
    "\n",
    "# Display all posts in the profile\n",
    "profile.display_posts()\n",
    "\n",
    "# Search for posts containing the keyword \"beach\"\n",
    "profile.search_posts(\"beach\")\n",
    "\n",
    "# Search for posts containing the keyword \"music\"\n",
    "profile.search_posts(\"music\")\n"
   ]
  },
  {
   "cell_type": "markdown",
   "id": "2fb880b6-a7a3-4a5d-833f-4b58f57ecd70",
   "metadata": {},
   "source": [
    "### Problem 10: ToDo List Create a class representing a ToDo list with attributes like tasks and due dates. Implement methods to add tasks, mark tasks as completed, and display pending tasks."
   ]
  },
  {
   "cell_type": "code",
   "execution_count": null,
   "id": "bfe2d49b-318b-4ffd-bdd5-4e11c77dddbd",
   "metadata": {},
   "outputs": [],
   "source": []
  }
 ],
 "metadata": {
  "kernelspec": {
   "display_name": "Python 3 (ipykernel)",
   "language": "python",
   "name": "python3"
  },
  "language_info": {
   "codemirror_mode": {
    "name": "ipython",
    "version": 3
   },
   "file_extension": ".py",
   "mimetype": "text/x-python",
   "name": "python",
   "nbconvert_exporter": "python",
   "pygments_lexer": "ipython3",
   "version": "3.10.8"
  }
 },
 "nbformat": 4,
 "nbformat_minor": 5
}
